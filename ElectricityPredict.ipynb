{
 "cells": [
  {
   "cell_type": "markdown",
   "metadata": {},
   "source": [
    "# 1. Understanding the problem\n",
    "\n",
    "## 1.1 What affects electricity consumption per househould?\n",
    "\n",
    "Refering to [fuel consumption summary](https://www.eia.gov/consumption/residential/data/2009/c&e/ce2.1.xlsx), the average electricity consumption is 38.6 BTU. From this table, the following consumers may tend to consume electricity more:\n",
    "\n",
    "Feature|Category\n",
    "-|-\n",
    "Census Region|South\n",
    "Urban and Rural|Rural\n",
    "Metropolitan or else|satistical area\n",
    "Climate Region|Hot-Humid\n",
    "Housing Unit Type|Single-Family Detached <br> Mobile Homes\n",
    "Ownership|Owned\n",
    "Year of Construction|newer\n",
    "Total Square Footage|larger\n",
    "Number of Household Members|more\n",
    "Income|more\n",
    "\n",
    "This result make sense. Next step, look into the data codebook. \n",
    "\n",
    "## 1.2 Look into the variables\n",
    "\n",
    "Refering to the [variable and response codebook](https://www.eia.gov/consumption/residential/data/2009/xls/recs2009_public_codebook.xlsx), there are 4 kinds of variables: \n",
    "\n",
    "1. **Continuous variables**: Response field is blank, such as `TOTSQFT` (total square footage)\n",
    "2. **Imputation flags of other features**: such as ZKOWNRENT (imputation flag for KOWNRENT). \n",
    "3. **Categories considered as numbers**: such as YEARMADE (year housing unit was build), here, they will be treated as **number**. \n",
    "4. **Categories not considered as numbers**: such as REGIONC (census region), here, they will be **treated as string** with method `pandas.get_dummies`\n",
    "\n",
    "Next step is selecting features.\n",
    "\n",
    "# 2 Selecting features\n",
    "\n",
    "import libraries\n"
   ]
  },
  {
   "cell_type": "code",
   "execution_count": 1,
   "metadata": {},
   "outputs": [
    {
     "name": "stderr",
     "output_type": "stream",
     "text": [
      "Using TensorFlow backend.\n"
     ]
    }
   ],
   "source": [
    "import keras\n",
    "import numpy as np  \n",
    "import pandas as pd\n",
    "import sklearn\n",
    "import matplotlib.pyplot as plt\n",
    "import seaborn as sns\n",
    "import xgboost as xgb\n",
    "import lightgbm as lgb\n",
    "\n",
    "from keras.models import Sequential \n",
    "from keras.layers import Dense,Activation\n",
    "from keras.optimizers import SGD\n",
    "\n",
    "from scipy.special import boxcox1p\n",
    "from scipy.stats import norm, skew\n",
    "\n",
    "from sklearn.pipeline import Pipeline, make_pipeline\n",
    "from sklearn.preprocessing import LabelEncoder,OneHotEncoder,RobustScaler\n",
    "from sklearn.base import BaseEstimator, TransformerMixin, RegressorMixin, clone\n",
    "from sklearn.model_selection import KFold, cross_val_score, train_test_split, GridSearchCV\n",
    "from sklearn.metrics import mean_squared_error\n",
    "from sklearn.decomposition import PCA\n",
    "from sklearn.impute import SimpleImputer\n",
    "from sklearn.svm import SVR, LinearSVR\n",
    "from sklearn.kernel_ridge import KernelRidge\n",
    "from sklearn.linear_model import LinearRegression,Ridge,Lasso,ElasticNet, SGDRegressor, BayesianRidge\n",
    "from sklearn.ensemble import RandomForestRegressor, GradientBoostingRegressor\n",
    "from xgboost import XGBRegressor\n",
    "\n",
    "def ignore_warn(*args, **kwargs):\n",
    "    pass"
   ]
  },
  {
   "cell_type": "markdown",
   "metadata": {},
   "source": [
    "## 2.1 Continuous variable screening\n",
    "\n",
    "Many variables actually have the same meaning, such as those contain `BTU`, `DOL`, they are redundant, as it would cause multicollinearity. So these variable should be dropped. Besides, `DesignDBT99` is dropped because there is a negative value which is against the rule. "
   ]
  },
  {
   "cell_type": "code",
   "execution_count": 2,
   "metadata": {},
   "outputs": [
    {
     "name": "stderr",
     "output_type": "stream",
     "text": [
      "d:\\Anaconda3\\envs\\python36Env\\lib\\site-packages\\IPython\\core\\interactiveshell.py:3072: DtypeWarning: Columns (717,718) have mixed types.Specify dtype option on import or set low_memory=False.\n",
      "  interactivity=interactivity, compiler=compiler, result=result)\n"
     ]
    }
   ],
   "source": [
    "DATA_FILE_PATH = './recs2009_public.csv'\n",
    "df = pd.read_csv(DATA_FILE_PATH)\n",
    "\n",
    "LABEL_FILE_PATH = './contiNumLabel.csv'\n",
    "contiNum = pd.read_table(LABEL_FILE_PATH,header=None,encoding='gb2312',sep=',').values\n",
    "numList = [f for f in contiNum[0] if ('BTU' not in f) and ('DOL' not in f)  and ('DesignDBT99' not in f)]\n",
    "numCatList= ['AIA_Zone','YEARMADE','YEARMADERANGE','OCCUPYYRANGE','NCOMBATH','NHAFBATH','OTHROOMS','TOTROOMS','STOVEN','STOVE','OVEN','NUMMEAL','NUMFRIG','TVCOLOR','NUMPC','BATTOOLS','ELECDEV','NUMH2ONOTNK','NUMH2OHTRS','NUMCFAN','LGT12','LGT4','LGT1','WINDOWS','ADQINSUL','DRAFTY','EDUCATION','NHSLDMEM','HHAGE','MONEYPY','PERIODEL']\n",
    "labelCatList =['REPORTABLE_DOMAIN','MOISTURE','HHSEX','NOCORD','WDWARM','SEPFREEZ','INSTLINS','DIVISION','Householder_Race','TOASTER','WOODAUX','WALLTYPE','SLDDRS','INSTLWS','ATHOME','POVERTY100','POVERTY150','EMPLOYHH','ANSMACH','TREESHAD','SDESCENT','UGOTH','KAVALEL','STEREO','NOTMOIST','Climate_Region_Pub','TELLWORK','OUTGRILL','KOWNRENT','TYPEHUQ','COFFEE','METROMICRO','UR']\n",
    "specialLabelCatList = ['BEDROOMS','CELLAR','GARGHEAT','HEATROOM','ACROOMS','USECENAC','TEMPNITEAC']"
   ]
  },
  {
   "cell_type": "markdown",
   "metadata": {},
   "source": [
    "## 2.2 Convert category variables to `String`\n",
    "\n",
    "Some of them are treated as number, and others should be converted to string. Later, method `pandas.get_dummies` will be applied to them for further processing. "
   ]
  },
  {
   "cell_type": "code",
   "execution_count": 3,
   "metadata": {},
   "outputs": [],
   "source": [
    "numData=df.loc[:,[f for f in numList]]\n",
    "numCatData=df.loc[:,[f for f in numCatList]]\n",
    "labelCatData=df.loc[:,[f for f in labelCatList]].astype(str)\n",
    "specialLabelCatData=df.loc[:,[f for f in specialLabelCatList]]\n",
    "\n",
    "all_data= numData.join(numCatData)\n",
    "all_data= all_data.join(labelCatData)\n",
    "all_data= all_data.join(specialLabelCatData)"
   ]
  },
  {
   "cell_type": "markdown",
   "metadata": {},
   "source": [
    "## 2.3 Drop outliers\n",
    "\n",
    "Outliers should be screened.  "
   ]
  },
  {
   "cell_type": "code",
   "execution_count": 4,
   "metadata": {},
   "outputs": [],
   "source": [
    "all_data.drop(all_data[(all_data[\"KWH\"]>150000)].index,inplace=True)\n",
    "# all_data = all_data[np.abs(all_data[\"KWH\"]-all_data[\"KWH\"].mean())<=(3*all_data[\"KWH\"].std())]"
   ]
  },
  {
   "cell_type": "markdown",
   "metadata": {},
   "source": [
    "# 3 Feature Engineering"
   ]
  },
  {
   "cell_type": "markdown",
   "metadata": {},
   "source": [
    "## 3.1 Feature Modification\n",
    "\n",
    "Some variables need to be modified manually: \n",
    "\n",
    "- replace `-2`,`-9`,`-8` by `0` (missing data)\n",
    "- replace `METROMICRO` by `0`, `1`, `2` \n",
    "- replace `UR` by `0`, `1`"
   ]
  },
  {
   "cell_type": "code",
   "execution_count": 5,
   "metadata": {},
   "outputs": [],
   "source": [
    "def MetroMicroToInt(x):\n",
    "    if(x=='METRO'):\n",
    "        r = 2\n",
    "    elif(x=='MICRO'):\n",
    "        r = 1\n",
    "    else:\n",
    "        r = 0\n",
    "    return r\n",
    "\n",
    "def UrbanRuralToInt(x):\n",
    "    if(x=='U'):\n",
    "        r = 1\n",
    "    else:\n",
    "        r = 0\n",
    "    return r\n",
    "\n",
    "all_data['METROMICRO'] = all_data['METROMICRO'].apply(MetroMicroToInt).astype(str)\n",
    "all_data['UR'] = all_data['UR'].apply(UrbanRuralToInt).astype(str)\n",
    "\n",
    "def BEDROOMSToInt(x):\n",
    "    if(x==-2):\n",
    "        return 0\n",
    "    else:\n",
    "        return x\n",
    "all_data['BEDROOMS'] = all_data['BEDROOMS'].apply(BEDROOMSToInt)\n",
    "\n",
    "def CELLARToInt(x):\n",
    "    if(x==-2):\n",
    "        return 0\n",
    "    else:\n",
    "        return x\n",
    "all_data['CELLAR'] = all_data['CELLAR'].apply(CELLARToInt)\n",
    "\n",
    "def GARGHEATToInt(x):\n",
    "    if(x==-2):\n",
    "        return 0\n",
    "    else:\n",
    "        return x\n",
    "all_data['GARGHEAT'] = all_data['GARGHEAT'].apply(GARGHEATToInt)\n",
    "\n",
    "def HEATROOMToInt(x):\n",
    "    if(x==-2):\n",
    "        return 0\n",
    "    else:\n",
    "        return x\n",
    "all_data['HEATROOM'] = all_data['HEATROOM'].apply(HEATROOMToInt)\n",
    "\n",
    "def ACROOMSToInt(x):\n",
    "    if(x==-2):\n",
    "        return 0\n",
    "    else:\n",
    "        return x\n",
    "all_data['ACROOMS'] = all_data['ACROOMS'].apply(ACROOMSToInt)\n",
    "\n",
    "def USECENACToInt(x):\n",
    "    if(x==-2):\n",
    "        return 3\n",
    "    else:\n",
    "        return x\n",
    "all_data['USECENAC'] = all_data['USECENAC'].apply(USECENACToInt)\n",
    "\n",
    "# 40~96 temperature\n",
    "def TEMPNITEACToInt(x):\n",
    "    if(x==-2):\n",
    "        return 70\n",
    "    else:\n",
    "        return x\n",
    "all_data['TEMPNITEAC'] = all_data['TEMPNITEAC'].apply(TEMPNITEACToInt)"
   ]
  },
  {
   "cell_type": "markdown",
   "metadata": {},
   "source": [
    "## 3.2 Building train set and test set\n",
    "\n",
    "Split original data set to train set(90%) and test set(10%)"
   ]
  },
  {
   "cell_type": "code",
   "execution_count": 6,
   "metadata": {},
   "outputs": [],
   "source": [
    "traindata= all_data.sample(n=None, frac=0.9, replace=False, weights=None, random_state=0, axis=0)\n",
    "traindata[\"KWH\"] = np.log1p(traindata[\"KWH\"])\n",
    "y_train = traindata['KWH'].values\n",
    "testdata=all_data[~all_data.index.isin(traindata.index)]\n",
    "\n",
    "ntrain= traindata.shape[0]\n",
    "train_index=traindata.index\n",
    "\n",
    "ntest= testdata.shape[0]\n",
    "test_index=testdata.index\n",
    "\n",
    "all_data = pd.concat((traindata, testdata)).reset_index(drop=True)\n",
    "all_data.drop(['KWH'], axis=1, inplace=True)"
   ]
  },
  {
   "cell_type": "markdown",
   "metadata": {},
   "source": [
    "## 3.3 Skewed features and get_dummies\n",
    "\n",
    "The distribution of some continuous features are asymmetric, which would decrease the training accuracy. So they should be transformed by `log(1+x)`.\n",
    "\n",
    "As for category variables, `get_dummies` can encode them to one-hot. "
   ]
  },
  {
   "cell_type": "code",
   "execution_count": 7,
   "metadata": {},
   "outputs": [],
   "source": [
    "class skew_dummies(BaseEstimator, TransformerMixin):\n",
    "    def __init__(self,skew=0.5):\n",
    "        self.skew = skew\n",
    "    \n",
    "    def fit(self,X,y=None):\n",
    "        return self\n",
    "    \n",
    "    def transform(self,X):\n",
    "        X_numeric=X.select_dtypes(exclude=[\"object\"])\n",
    "        skewness = X_numeric.apply(lambda x: skew(x))\n",
    "        skewness_features = skewness[abs(skewness) >= self.skew].index\n",
    "        X[skewness_features] = np.log1p(X[skewness_features])\n",
    "        X = pd.get_dummies(X)\n",
    "        return X\n",
    "    \n",
    "pipe = Pipeline([('skew_dummies', skew_dummies(skew=1))])\n",
    "all_data = pipe.fit_transform(all_data)\n",
    "train = all_data[:ntrain]\n",
    "test = all_data[ntrain:]"
   ]
  },
  {
   "cell_type": "markdown",
   "metadata": {},
   "source": [
    "## 3.4 Feature importance ranking with Lasso regression\n",
    "\n",
    "Features are ranked by importance factors throough lasso regression. "
   ]
  },
  {
   "cell_type": "code",
   "execution_count": 8,
   "metadata": {},
   "outputs": [
    {
     "name": "stderr",
     "output_type": "stream",
     "text": [
      "d:\\Anaconda3\\envs\\python36Env\\lib\\site-packages\\sklearn\\linear_model\\_coordinate_descent.py:531: ConvergenceWarning: Objective did not converge. You might want to increase the number of iterations. Duality gap: 53754812022.73911, tolerance: 62441414.45920147\n",
      "  positive)\n"
     ]
    },
    {
     "data": {
      "image/png": "[encoded data removed]",
      "text/plain": [
       "<Figure size 720x2160 with 1 Axes>"
      ]
     },
     "metadata": {
      "needs_background": "light"
     },
     "output_type": "display_data"
    }
   ],
   "source": [
    "lasso=Lasso(alpha=0.001)\n",
    "lasso.fit(train,np.exp(y_train)-1)\n",
    "FI_lasso = pd.DataFrame({\"Feature Importance\":lasso.coef_}, index=all_data.columns)\n",
    "FI_lasso.sort_values(\"Feature Importance\",ascending=False)\n",
    "FI_lasso[FI_lasso[\"Feature Importance\"]!=0].sort_values(\"Feature Importance\").plot(kind=\"barh\",figsize=(10,30))\n",
    "plt.xticks(rotation=90)\n",
    "plt.show()"
   ]
  },
  {
   "cell_type": "markdown",
   "metadata": {},
   "source": [
    "# 4 Modeling\n"
   ]
  },
  {
   "cell_type": "markdown",
   "metadata": {},
   "source": [
    "## 4.1 Define a cross validation strategy"
   ]
  },
  {
   "cell_type": "code",
   "execution_count": 9,
   "metadata": {},
   "outputs": [],
   "source": [
    "# for train\n",
    "n_folds = 5\n",
    "def rmsle_cv(model):\n",
    "    kf = KFold(n_folds, shuffle=True, random_state=42).get_n_splits(train.values)\n",
    "    rmse= np.sqrt(-cross_val_score(model, train.values, y_train, scoring=\"neg_mean_squared_error\", cv = kf))\n",
    "    return(rmse)\n",
    "\n",
    "def rmse_cv(model,X,y):\n",
    "    rmse = np.sqrt(-cross_val_score(model, X, y, scoring=\"neg_mean_squared_error\", cv=n_folds))\n",
    "    return rmse\n",
    "\n",
    "# for test\n",
    "def rmsle(y, y_pred):\n",
    "    return np.sqrt(mean_squared_error(y, y_pred))/y.mean()"
   ]
  },
  {
   "cell_type": "markdown",
   "metadata": {},
   "source": [
    "## 4.2 Base Models\n",
    "\n",
    "### 4.2.1 hyperparameters tuning on gridsearch method\n",
    "\n",
    "Gridsearch method is used to find the optimum hyperparameters."
   ]
  },
  {
   "cell_type": "code",
   "execution_count": 10,
   "metadata": {},
   "outputs": [],
   "source": [
    "class grid():\n",
    "    def __init__(self,model):\n",
    "        self.model = model\n",
    "    \n",
    "    def grid_get(self,param_grid):\n",
    "        grid_search = GridSearchCV(self.model,param_grid,cv=5, scoring=\"neg_mean_squared_error\")\n",
    "        grid_search.fit(train.values, y_train)\n",
    "        print(grid_search.best_params_, np.sqrt(-grid_search.best_score_))\n",
    "        grid_search.cv_results_['mean_test_score'] = np.sqrt(-grid_search.cv_results_['mean_test_score'])\n",
    "        print(pd.DataFrame(grid_search.cv_results_)[['params','mean_test_score','std_test_score']])"
   ]
  },
  {
   "cell_type": "markdown",
   "metadata": {},
   "source": [
    "### 4.2.2 LASSO Regression\n",
    "\n",
    "Use the sklearn's Robustscaler() method on pipeline to make it robust on outliers"
   ]
  },
  {
   "cell_type": "markdown",
   "metadata": {},
   "source": [
    "#### 4.2.2.1 lasso tuning"
   ]
  },
  {
   "cell_type": "code",
   "execution_count": 11,
   "metadata": {},
   "outputs": [],
   "source": [
    "# grid(Lasso()).grid_get({'alpha': [0.0001,0.0005,0.005,0.01,0.05,0.1],'max_iter':[10000]})"
   ]
  },
  {
   "cell_type": "markdown",
   "metadata": {},
   "source": [
    "#### 4.2.2.2 lasso model"
   ]
  },
  {
   "cell_type": "code",
   "execution_count": 12,
   "metadata": {},
   "outputs": [],
   "source": [
    "lasso = make_pipeline(RobustScaler(), Lasso(alpha =0.0001, random_state=1))"
   ]
  },
  {
   "cell_type": "markdown",
   "metadata": {},
   "source": [
    "### 4.2.3 Elastic Net Regression"
   ]
  },
  {
   "cell_type": "markdown",
   "metadata": {},
   "source": [
    "#### 4.2.3.1 ENet tuning"
   ]
  },
  {
   "cell_type": "code",
   "execution_count": 13,
   "metadata": {},
   "outputs": [],
   "source": [
    "# grid(ElasticNet()).grid_get({'alpha': [0.0001,0.0005,0.005,0.01,0.05,0.1],'l1_ratio': [0.01,0.1,0.5,0.9,1],'random_state':[1,2,3]})"
   ]
  },
  {
   "cell_type": "markdown",
   "metadata": {},
   "source": [
    "#### 4.2.3.2 ENet model"
   ]
  },
  {
   "cell_type": "code",
   "execution_count": 14,
   "metadata": {},
   "outputs": [],
   "source": [
    "ENet = make_pipeline(RobustScaler(), ElasticNet(alpha=0.0005, l1_ratio=.9, random_state=3))"
   ]
  },
  {
   "cell_type": "markdown",
   "metadata": {},
   "source": [
    "### 4.2.4 Kernel Ridge Regression"
   ]
  },
  {
   "cell_type": "markdown",
   "metadata": {},
   "source": [
    "#### 4.2.4.1 KRR tuning"
   ]
  },
  {
   "cell_type": "code",
   "execution_count": 15,
   "metadata": {},
   "outputs": [],
   "source": [
    "# grid(KernelRidge()).grid_get({'alpha': [0.05,0.1,0.5,0.7,0.9,1,1.5],'kernel':['polynomial'],'degree': [1,2,3],'coef0':[1]})"
   ]
  },
  {
   "cell_type": "markdown",
   "metadata": {},
   "source": [
    "#### 4.2.4.2 KRR model"
   ]
  },
  {
   "cell_type": "code",
   "execution_count": 16,
   "metadata": {},
   "outputs": [],
   "source": [
    "KRR = KernelRidge(alpha=0.6, kernel='polynomial', degree=2, coef0=2.5)"
   ]
  },
  {
   "cell_type": "markdown",
   "metadata": {},
   "source": [
    "### 4.2.5 Gradient Boosting Regression\n",
    "\n",
    "With huber loss that makes it robust to outliers"
   ]
  },
  {
   "cell_type": "markdown",
   "metadata": {},
   "source": [
    "#### 4.2.5.1 GBoost tuning"
   ]
  },
  {
   "cell_type": "code",
   "execution_count": 17,
   "metadata": {},
   "outputs": [],
   "source": [
    "# grid(GradientBoostingRegressor()).grid_get({'n_estimators': [100,3000],'learning_rate': [0.05,0.5],'max_depth': [1,3],'max_features':['sqrt'],\n",
    "#                              'min_samples_leaf': [15],'min_samples_split': [10],'loss': ['huber'],'random_state':[5]})\n",
    "# grid(GradientBoostingRegressor()).grid_get({'n_estimators': [3000],'learning_rate': [0.5],'max_depth': [3],'max_features':['sqrt'],\n",
    "#                              'min_samples_leaf': [5,20],'min_samples_split': [5,15],'loss': ['huber'],'random_state':[5,10]})"
   ]
  },
  {
   "cell_type": "markdown",
   "metadata": {},
   "source": [
    "#### 4.2.5.2 GBoost model"
   ]
  },
  {
   "cell_type": "code",
   "execution_count": 18,
   "metadata": {},
   "outputs": [],
   "source": [
    "GBoost = GradientBoostingRegressor(n_estimators=3000, learning_rate=0.05,\n",
    "                                   max_depth=4, max_features='sqrt',\n",
    "                                   min_samples_leaf=15, min_samples_split=10, \n",
    "                                   loss='huber', random_state =5)"
   ]
  },
  {
   "cell_type": "markdown",
   "metadata": {},
   "source": [
    "### 4.2.6 XGBoost"
   ]
  },
  {
   "cell_type": "code",
   "execution_count": 19,
   "metadata": {},
   "outputs": [],
   "source": [
    "model_xgb = xgb.XGBRegressor(colsample_bytree=0.4603, gamma=0.0468, \n",
    "                             learning_rate=0.05, max_depth=3, \n",
    "                             min_child_weight=1.7817, n_estimators=2200,\n",
    "                             reg_alpha=0.4640, reg_lambda=0.8571,\n",
    "                             subsample=0.5213, silent=1,\n",
    "                             random_state =7, nthread = -1)"
   ]
  },
  {
   "cell_type": "markdown",
   "metadata": {},
   "source": [
    "### 4.2.7 LightGBM"
   ]
  },
  {
   "cell_type": "code",
   "execution_count": 20,
   "metadata": {},
   "outputs": [],
   "source": [
    "model_lgb = lgb.LGBMRegressor(objective='regression',num_leaves=5,\n",
    "                              learning_rate=0.05, n_estimators=720,\n",
    "                              max_bin = 55, bagging_fraction = 0.8,\n",
    "                              bagging_freq = 5, feature_fraction = 0.2319,\n",
    "                              feature_fraction_seed=9, bagging_seed=9,\n",
    "                              min_data_in_leaf =6, min_sum_hessian_in_leaf = 11)"
   ]
  },
  {
   "cell_type": "markdown",
   "metadata": {},
   "source": [
    "## 4.3 Base models scores"
   ]
  },
  {
   "cell_type": "code",
   "execution_count": 21,
   "metadata": {},
   "outputs": [
    {
     "name": "stdout",
     "output_type": "stream",
     "text": [
      "\n",
      "Lasso score: 0.1361 (0.0020)\n",
      "\n"
     ]
    }
   ],
   "source": [
    "score = rmsle_cv(lasso)\n",
    "print(\"\\nLasso score: {:.4f} ({:.4f})\\n\".format(score.mean(), score.std()))"
   ]
  },
  {
   "cell_type": "code",
   "execution_count": 22,
   "metadata": {},
   "outputs": [
    {
     "name": "stdout",
     "output_type": "stream",
     "text": [
      "ElasticNet score: 0.1370 (0.0023)\n",
      "\n"
     ]
    }
   ],
   "source": [
    "score = rmsle_cv(ENet)\n",
    "print(\"ElasticNet score: {:.4f} ({:.4f})\\n\".format(score.mean(), score.std()))"
   ]
  },
  {
   "cell_type": "code",
   "execution_count": 23,
   "metadata": {},
   "outputs": [
    {
     "name": "stderr",
     "output_type": "stream",
     "text": [
      "d:\\Anaconda3\\envs\\python36Env\\lib\\site-packages\\sklearn\\linear_model\\_ridge.py:188: LinAlgWarning: Ill-conditioned matrix (rcond=3.85429e-18): result may not be accurate.\n",
      "  overwrite_a=False)\n",
      "d:\\Anaconda3\\envs\\python36Env\\lib\\site-packages\\sklearn\\linear_model\\_ridge.py:188: LinAlgWarning: Ill-conditioned matrix (rcond=3.22425e-18): result may not be accurate.\n",
      "  overwrite_a=False)\n",
      "d:\\Anaconda3\\envs\\python36Env\\lib\\site-packages\\sklearn\\linear_model\\_ridge.py:188: LinAlgWarning: Ill-conditioned matrix (rcond=3.1926e-18): result may not be accurate.\n",
      "  overwrite_a=False)\n",
      "d:\\Anaconda3\\envs\\python36Env\\lib\\site-packages\\sklearn\\linear_model\\_ridge.py:188: LinAlgWarning: Ill-conditioned matrix (rcond=3.20376e-18): result may not be accurate.\n",
      "  overwrite_a=False)\n",
      "d:\\Anaconda3\\envs\\python36Env\\lib\\site-packages\\sklearn\\linear_model\\_ridge.py:188: LinAlgWarning: Ill-conditioned matrix (rcond=3.10548e-18): result may not be accurate.\n",
      "  overwrite_a=False)\n"
     ]
    },
    {
     "name": "stdout",
     "output_type": "stream",
     "text": [
      "Kernel Ridge score: 0.0756 (0.0052)\n",
      "\n"
     ]
    }
   ],
   "source": [
    "score = rmsle_cv(KRR)\n",
    "print(\"Kernel Ridge score: {:.4f} ({:.4f})\\n\".format(score.mean(), score.std()))"
   ]
  },
  {
   "cell_type": "code",
   "execution_count": 24,
   "metadata": {},
   "outputs": [
    {
     "name": "stdout",
     "output_type": "stream",
     "text": [
      "Gradient Boosting score: 0.0864 (0.0141)\n",
      "\n"
     ]
    }
   ],
   "source": [
    "score = rmsle_cv(GBoost)\n",
    "print(\"Gradient Boosting score: {:.4f} ({:.4f})\\n\".format(score.mean(), score.std())) #0.0864 (0.0141)"
   ]
  },
  {
   "cell_type": "code",
   "execution_count": 25,
   "metadata": {},
   "outputs": [
    {
     "name": "stdout",
     "output_type": "stream",
     "text": [
      "Xgboost score: 0.0512 (0.0059)\n",
      "\n"
     ]
    }
   ],
   "source": [
    "score = rmsle_cv(model_xgb)\n",
    "print(\"Xgboost score: {:.4f} ({:.4f})\\n\".format(score.mean(), score.std())) #0.0512 (0.0059)"
   ]
  },
  {
   "cell_type": "code",
   "execution_count": 26,
   "metadata": {},
   "outputs": [
    {
     "name": "stdout",
     "output_type": "stream",
     "text": [
      "LGBM score: 0.0971 (0.0113)\n",
      "\n"
     ]
    }
   ],
   "source": [
    "score = rmsle_cv(model_lgb)\n",
    "print(\"LGBM score: {:.4f} ({:.4f})\\n\" .format(score.mean(), score.std())) #0.0971 (0.0113)"
   ]
  },
  {
   "cell_type": "markdown",
   "metadata": {},
   "source": [
    "## 4.4 Stacking averaged models with a meta-model\n",
    "\n",
    "In order to get a better result, stacking averaged model with a meta-model is used. "
   ]
  },
  {
   "cell_type": "code",
   "execution_count": 27,
   "metadata": {},
   "outputs": [],
   "source": [
    "# Stacking averaged Models Class\n",
    "class stacking(BaseEstimator, RegressorMixin, TransformerMixin):\n",
    "    def __init__(self,mod,meta_model):\n",
    "        self.mod = mod\n",
    "        self.meta_model = meta_model\n",
    "        self.kf = KFold(n_splits=5, random_state=42, shuffle=True)\n",
    "        \n",
    "    def fit(self,X,y):\n",
    "        self.saved_model = [list() for i in self.mod]\n",
    "        oof_train = np.zeros((X.shape[0], len(self.mod)))\n",
    "        \n",
    "        for i,model in enumerate(self.mod):\n",
    "            for train_index, val_index in self.kf.split(X,y):\n",
    "                renew_model = clone(model)\n",
    "                renew_model.fit(X[train_index], y[train_index])\n",
    "                self.saved_model[i].append(renew_model)\n",
    "                oof_train[val_index,i] = renew_model.predict(X[val_index])\n",
    "        \n",
    "        self.meta_model.fit(oof_train,y)\n",
    "        return self\n",
    "    \n",
    "    def predict(self,X):\n",
    "        whole_test = np.column_stack([np.column_stack(model.predict(X) for model in single_model).mean(axis=1) \n",
    "                                      for single_model in self.saved_model]) \n",
    "        return self.meta_model.predict(whole_test)\n",
    "    \n",
    "    def get_oof(self,X,y,test_X):\n",
    "        oof = np.zeros((X.shape[0],len(self.mod)))\n",
    "        test_single = np.zeros((test_X.shape[0],5))\n",
    "        test_mean = np.zeros((test_X.shape[0],len(self.mod)))\n",
    "        for i,model in enumerate(self.mod):\n",
    "            for j, (train_index,val_index) in enumerate(self.kf.split(X,y)):\n",
    "                clone_model = clone(model)\n",
    "                clone_model.fit(X[train_index],y[train_index])\n",
    "                oof[val_index,i] = clone_model.predict(X[val_index])\n",
    "                test_single[:,j] = clone_model.predict(test_X)\n",
    "            test_mean[:,i] = test_single.mean(axis=1)\n",
    "        return oof, test_mean"
   ]
  },
  {
   "cell_type": "code",
   "execution_count": 28,
   "metadata": {
    "scrolled": false
   },
   "outputs": [
    {
     "name": "stderr",
     "output_type": "stream",
     "text": [
      "d:\\Anaconda3\\envs\\python36Env\\lib\\site-packages\\sklearn\\linear_model\\_ridge.py:188: LinAlgWarning: Ill-conditioned matrix (rcond=4.99866e-18): result may not be accurate.\n",
      "  overwrite_a=False)\n",
      "d:\\Anaconda3\\envs\\python36Env\\lib\\site-packages\\sklearn\\linear_model\\_ridge.py:188: LinAlgWarning: Ill-conditioned matrix (rcond=5.58607e-18): result may not be accurate.\n",
      "  overwrite_a=False)\n",
      "d:\\Anaconda3\\envs\\python36Env\\lib\\site-packages\\sklearn\\linear_model\\_ridge.py:188: LinAlgWarning: Ill-conditioned matrix (rcond=5.78762e-18): result may not be accurate.\n",
      "  overwrite_a=False)\n",
      "d:\\Anaconda3\\envs\\python36Env\\lib\\site-packages\\sklearn\\linear_model\\_ridge.py:188: LinAlgWarning: Ill-conditioned matrix (rcond=5.18387e-18): result may not be accurate.\n",
      "  overwrite_a=False)\n",
      "d:\\Anaconda3\\envs\\python36Env\\lib\\site-packages\\sklearn\\linear_model\\_ridge.py:188: LinAlgWarning: Ill-conditioned matrix (rcond=6.19356e-18): result may not be accurate.\n",
      "  overwrite_a=False)\n",
      "d:\\Anaconda3\\envs\\python36Env\\lib\\site-packages\\ipykernel_launcher.py:24: FutureWarning: arrays to stack must be passed as a \"sequence\" type such as list or tuple. Support for non-sequence iterables such as generators is deprecated as of NumPy 1.16 and will raise an error in the future.\n",
      "d:\\Anaconda3\\envs\\python36Env\\lib\\site-packages\\ipykernel_launcher.py:24: FutureWarning: arrays to stack must be passed as a \"sequence\" type such as list or tuple. Support for non-sequence iterables such as generators is deprecated as of NumPy 1.16 and will raise an error in the future.\n",
      "d:\\Anaconda3\\envs\\python36Env\\lib\\site-packages\\sklearn\\linear_model\\_ridge.py:188: LinAlgWarning: Ill-conditioned matrix (rcond=4.33862e-18): result may not be accurate.\n",
      "  overwrite_a=False)\n",
      "d:\\Anaconda3\\envs\\python36Env\\lib\\site-packages\\sklearn\\linear_model\\_ridge.py:188: LinAlgWarning: Ill-conditioned matrix (rcond=4.27654e-18): result may not be accurate.\n",
      "  overwrite_a=False)\n",
      "d:\\Anaconda3\\envs\\python36Env\\lib\\site-packages\\sklearn\\linear_model\\_ridge.py:188: LinAlgWarning: Ill-conditioned matrix (rcond=4.96702e-18): result may not be accurate.\n",
      "  overwrite_a=False)\n",
      "d:\\Anaconda3\\envs\\python36Env\\lib\\site-packages\\sklearn\\linear_model\\_ridge.py:188: LinAlgWarning: Ill-conditioned matrix (rcond=4.8366e-18): result may not be accurate.\n",
      "  overwrite_a=False)\n",
      "d:\\Anaconda3\\envs\\python36Env\\lib\\site-packages\\sklearn\\linear_model\\_ridge.py:188: LinAlgWarning: Ill-conditioned matrix (rcond=4.3148e-18): result may not be accurate.\n",
      "  overwrite_a=False)\n",
      "d:\\Anaconda3\\envs\\python36Env\\lib\\site-packages\\ipykernel_launcher.py:24: FutureWarning: arrays to stack must be passed as a \"sequence\" type such as list or tuple. Support for non-sequence iterables such as generators is deprecated as of NumPy 1.16 and will raise an error in the future.\n",
      "d:\\Anaconda3\\envs\\python36Env\\lib\\site-packages\\ipykernel_launcher.py:24: FutureWarning: arrays to stack must be passed as a \"sequence\" type such as list or tuple. Support for non-sequence iterables such as generators is deprecated as of NumPy 1.16 and will raise an error in the future.\n",
      "d:\\Anaconda3\\envs\\python36Env\\lib\\site-packages\\sklearn\\linear_model\\_ridge.py:188: LinAlgWarning: Ill-conditioned matrix (rcond=4.27933e-18): result may not be accurate.\n",
      "  overwrite_a=False)\n",
      "d:\\Anaconda3\\envs\\python36Env\\lib\\site-packages\\sklearn\\linear_model\\_ridge.py:188: LinAlgWarning: Ill-conditioned matrix (rcond=4.45168e-18): result may not be accurate.\n",
      "  overwrite_a=False)\n",
      "d:\\Anaconda3\\envs\\python36Env\\lib\\site-packages\\sklearn\\linear_model\\_ridge.py:188: LinAlgWarning: Ill-conditioned matrix (rcond=4.35598e-18): result may not be accurate.\n",
      "  overwrite_a=False)\n",
      "d:\\Anaconda3\\envs\\python36Env\\lib\\site-packages\\sklearn\\linear_model\\_ridge.py:188: LinAlgWarning: Ill-conditioned matrix (rcond=4.54241e-18): result may not be accurate.\n",
      "  overwrite_a=False)\n",
      "d:\\Anaconda3\\envs\\python36Env\\lib\\site-packages\\sklearn\\linear_model\\_ridge.py:188: LinAlgWarning: Ill-conditioned matrix (rcond=4.30868e-18): result may not be accurate.\n",
      "  overwrite_a=False)\n",
      "d:\\Anaconda3\\envs\\python36Env\\lib\\site-packages\\ipykernel_launcher.py:24: FutureWarning: arrays to stack must be passed as a \"sequence\" type such as list or tuple. Support for non-sequence iterables such as generators is deprecated as of NumPy 1.16 and will raise an error in the future.\n",
      "d:\\Anaconda3\\envs\\python36Env\\lib\\site-packages\\ipykernel_launcher.py:24: FutureWarning: arrays to stack must be passed as a \"sequence\" type such as list or tuple. Support for non-sequence iterables such as generators is deprecated as of NumPy 1.16 and will raise an error in the future.\n",
      "d:\\Anaconda3\\envs\\python36Env\\lib\\site-packages\\sklearn\\linear_model\\_ridge.py:188: LinAlgWarning: Ill-conditioned matrix (rcond=4.26525e-18): result may not be accurate.\n",
      "  overwrite_a=False)\n",
      "d:\\Anaconda3\\envs\\python36Env\\lib\\site-packages\\sklearn\\linear_model\\_ridge.py:188: LinAlgWarning: Ill-conditioned matrix (rcond=4.21363e-18): result may not be accurate.\n",
      "  overwrite_a=False)\n",
      "d:\\Anaconda3\\envs\\python36Env\\lib\\site-packages\\sklearn\\linear_model\\_ridge.py:188: LinAlgWarning: Ill-conditioned matrix (rcond=4.88443e-18): result may not be accurate.\n",
      "  overwrite_a=False)\n",
      "d:\\Anaconda3\\envs\\python36Env\\lib\\site-packages\\sklearn\\linear_model\\_ridge.py:188: LinAlgWarning: Ill-conditioned matrix (rcond=4.8742e-18): result may not be accurate.\n",
      "  overwrite_a=False)\n",
      "d:\\Anaconda3\\envs\\python36Env\\lib\\site-packages\\sklearn\\linear_model\\_ridge.py:188: LinAlgWarning: Ill-conditioned matrix (rcond=4.97552e-18): result may not be accurate.\n",
      "  overwrite_a=False)\n",
      "d:\\Anaconda3\\envs\\python36Env\\lib\\site-packages\\ipykernel_launcher.py:24: FutureWarning: arrays to stack must be passed as a \"sequence\" type such as list or tuple. Support for non-sequence iterables such as generators is deprecated as of NumPy 1.16 and will raise an error in the future.\n",
      "d:\\Anaconda3\\envs\\python36Env\\lib\\site-packages\\ipykernel_launcher.py:24: FutureWarning: arrays to stack must be passed as a \"sequence\" type such as list or tuple. Support for non-sequence iterables such as generators is deprecated as of NumPy 1.16 and will raise an error in the future.\n",
      "d:\\Anaconda3\\envs\\python36Env\\lib\\site-packages\\sklearn\\linear_model\\_ridge.py:188: LinAlgWarning: Ill-conditioned matrix (rcond=4.10477e-18): result may not be accurate.\n",
      "  overwrite_a=False)\n",
      "d:\\Anaconda3\\envs\\python36Env\\lib\\site-packages\\sklearn\\linear_model\\_ridge.py:188: LinAlgWarning: Ill-conditioned matrix (rcond=4.16479e-18): result may not be accurate.\n",
      "  overwrite_a=False)\n",
      "d:\\Anaconda3\\envs\\python36Env\\lib\\site-packages\\sklearn\\linear_model\\_ridge.py:188: LinAlgWarning: Ill-conditioned matrix (rcond=4.75667e-18): result may not be accurate.\n",
      "  overwrite_a=False)\n",
      "d:\\Anaconda3\\envs\\python36Env\\lib\\site-packages\\sklearn\\linear_model\\_ridge.py:188: LinAlgWarning: Ill-conditioned matrix (rcond=4.44001e-18): result may not be accurate.\n",
      "  overwrite_a=False)\n",
      "d:\\Anaconda3\\envs\\python36Env\\lib\\site-packages\\sklearn\\linear_model\\_ridge.py:188: LinAlgWarning: Ill-conditioned matrix (rcond=4.19017e-18): result may not be accurate.\n",
      "  overwrite_a=False)\n",
      "d:\\Anaconda3\\envs\\python36Env\\lib\\site-packages\\ipykernel_launcher.py:24: FutureWarning: arrays to stack must be passed as a \"sequence\" type such as list or tuple. Support for non-sequence iterables such as generators is deprecated as of NumPy 1.16 and will raise an error in the future.\n",
      "d:\\Anaconda3\\envs\\python36Env\\lib\\site-packages\\ipykernel_launcher.py:24: FutureWarning: arrays to stack must be passed as a \"sequence\" type such as list or tuple. Support for non-sequence iterables such as generators is deprecated as of NumPy 1.16 and will raise an error in the future.\n"
     ]
    },
    {
     "name": "stdout",
     "output_type": "stream",
     "text": [
      "0.04659244080627119 0.0050464877633937325\n"
     ]
    }
   ],
   "source": [
    "flatX = SimpleImputer().fit_transform(train.values)\n",
    "flatY = SimpleImputer().fit_transform(y_train.reshape(-1,1)).ravel()\n",
    "stack_model = stacking(mod=[ENet, model_xgb, KRR],meta_model=lasso)\n",
    "score=rmse_cv(stack_model,flatX,flatY)\n",
    "print(score.mean(),score.std())   # result: mean = 0.046"
   ]
  },
  {
   "cell_type": "markdown",
   "metadata": {},
   "source": [
    "## 4.5 Combining stacking feature with origial features"
   ]
  },
  {
   "cell_type": "code",
   "execution_count": 29,
   "metadata": {},
   "outputs": [
    {
     "name": "stderr",
     "output_type": "stream",
     "text": [
      "d:\\Anaconda3\\envs\\python36Env\\lib\\site-packages\\sklearn\\linear_model\\_ridge.py:188: LinAlgWarning: Ill-conditioned matrix (rcond=3.19158e-18): result may not be accurate.\n",
      "  overwrite_a=False)\n",
      "d:\\Anaconda3\\envs\\python36Env\\lib\\site-packages\\sklearn\\linear_model\\_ridge.py:188: LinAlgWarning: Ill-conditioned matrix (rcond=3.71491e-18): result may not be accurate.\n",
      "  overwrite_a=False)\n",
      "d:\\Anaconda3\\envs\\python36Env\\lib\\site-packages\\sklearn\\linear_model\\_ridge.py:188: LinAlgWarning: Ill-conditioned matrix (rcond=3.20376e-18): result may not be accurate.\n",
      "  overwrite_a=False)\n",
      "d:\\Anaconda3\\envs\\python36Env\\lib\\site-packages\\sklearn\\linear_model\\_ridge.py:188: LinAlgWarning: Ill-conditioned matrix (rcond=3.22172e-18): result may not be accurate.\n",
      "  overwrite_a=False)\n",
      "d:\\Anaconda3\\envs\\python36Env\\lib\\site-packages\\sklearn\\linear_model\\_ridge.py:188: LinAlgWarning: Ill-conditioned matrix (rcond=3.74413e-18): result may not be accurate.\n",
      "  overwrite_a=False)\n"
     ]
    }
   ],
   "source": [
    "X_train_stack, X_test_stack = stack_model.get_oof(flatX,flatY,test.values)\n",
    "X_train_add = np.hstack((flatX,X_train_stack))\n",
    "X_test_add = np.hstack((test,X_test_stack))"
   ]
  },
  {
   "cell_type": "code",
   "execution_count": 30,
   "metadata": {},
   "outputs": [
    {
     "name": "stderr",
     "output_type": "stream",
     "text": [
      "d:\\Anaconda3\\envs\\python36Env\\lib\\site-packages\\sklearn\\linear_model\\_ridge.py:188: LinAlgWarning: Ill-conditioned matrix (rcond=5.14696e-18): result may not be accurate.\n",
      "  overwrite_a=False)\n",
      "d:\\Anaconda3\\envs\\python36Env\\lib\\site-packages\\sklearn\\linear_model\\_ridge.py:188: LinAlgWarning: Ill-conditioned matrix (rcond=5.73419e-18): result may not be accurate.\n",
      "  overwrite_a=False)\n",
      "d:\\Anaconda3\\envs\\python36Env\\lib\\site-packages\\sklearn\\linear_model\\_ridge.py:188: LinAlgWarning: Ill-conditioned matrix (rcond=6.06692e-18): result may not be accurate.\n",
      "  overwrite_a=False)\n",
      "d:\\Anaconda3\\envs\\python36Env\\lib\\site-packages\\sklearn\\linear_model\\_ridge.py:188: LinAlgWarning: Ill-conditioned matrix (rcond=5.88925e-18): result may not be accurate.\n",
      "  overwrite_a=False)\n",
      "d:\\Anaconda3\\envs\\python36Env\\lib\\site-packages\\sklearn\\linear_model\\_ridge.py:188: LinAlgWarning: Ill-conditioned matrix (rcond=5.88853e-18): result may not be accurate.\n",
      "  overwrite_a=False)\n",
      "d:\\Anaconda3\\envs\\python36Env\\lib\\site-packages\\sklearn\\linear_model\\_coordinate_descent.py:531: ConvergenceWarning: Objective did not converge. You might want to increase the number of iterations. Duality gap: 1.0828254837339806, tolerance: 0.4208174195879493\n",
      "  positive)\n",
      "d:\\Anaconda3\\envs\\python36Env\\lib\\site-packages\\ipykernel_launcher.py:24: FutureWarning: arrays to stack must be passed as a \"sequence\" type such as list or tuple. Support for non-sequence iterables such as generators is deprecated as of NumPy 1.16 and will raise an error in the future.\n",
      "d:\\Anaconda3\\envs\\python36Env\\lib\\site-packages\\ipykernel_launcher.py:24: FutureWarning: arrays to stack must be passed as a \"sequence\" type such as list or tuple. Support for non-sequence iterables such as generators is deprecated as of NumPy 1.16 and will raise an error in the future.\n",
      "d:\\Anaconda3\\envs\\python36Env\\lib\\site-packages\\sklearn\\linear_model\\_ridge.py:188: LinAlgWarning: Ill-conditioned matrix (rcond=4.47411e-18): result may not be accurate.\n",
      "  overwrite_a=False)\n",
      "d:\\Anaconda3\\envs\\python36Env\\lib\\site-packages\\sklearn\\linear_model\\_ridge.py:188: LinAlgWarning: Ill-conditioned matrix (rcond=4.96063e-18): result may not be accurate.\n",
      "  overwrite_a=False)\n",
      "d:\\Anaconda3\\envs\\python36Env\\lib\\site-packages\\sklearn\\linear_model\\_ridge.py:188: LinAlgWarning: Ill-conditioned matrix (rcond=5.12361e-18): result may not be accurate.\n",
      "  overwrite_a=False)\n",
      "d:\\Anaconda3\\envs\\python36Env\\lib\\site-packages\\sklearn\\linear_model\\_ridge.py:188: LinAlgWarning: Ill-conditioned matrix (rcond=4.97613e-18): result may not be accurate.\n",
      "  overwrite_a=False)\n",
      "d:\\Anaconda3\\envs\\python36Env\\lib\\site-packages\\sklearn\\linear_model\\_ridge.py:188: LinAlgWarning: Ill-conditioned matrix (rcond=4.44975e-18): result may not be accurate.\n",
      "  overwrite_a=False)\n",
      "d:\\Anaconda3\\envs\\python36Env\\lib\\site-packages\\sklearn\\linear_model\\_coordinate_descent.py:531: ConvergenceWarning: Objective did not converge. You might want to increase the number of iterations. Duality gap: 1.4028997182884062, tolerance: 0.42528764970967253\n",
      "  positive)\n",
      "d:\\Anaconda3\\envs\\python36Env\\lib\\site-packages\\ipykernel_launcher.py:24: FutureWarning: arrays to stack must be passed as a \"sequence\" type such as list or tuple. Support for non-sequence iterables such as generators is deprecated as of NumPy 1.16 and will raise an error in the future.\n",
      "d:\\Anaconda3\\envs\\python36Env\\lib\\site-packages\\ipykernel_launcher.py:24: FutureWarning: arrays to stack must be passed as a \"sequence\" type such as list or tuple. Support for non-sequence iterables such as generators is deprecated as of NumPy 1.16 and will raise an error in the future.\n",
      "d:\\Anaconda3\\envs\\python36Env\\lib\\site-packages\\sklearn\\linear_model\\_ridge.py:188: LinAlgWarning: Ill-conditioned matrix (rcond=4.60408e-18): result may not be accurate.\n",
      "  overwrite_a=False)\n",
      "d:\\Anaconda3\\envs\\python36Env\\lib\\site-packages\\sklearn\\linear_model\\_ridge.py:188: LinAlgWarning: Ill-conditioned matrix (rcond=4.95159e-18): result may not be accurate.\n",
      "  overwrite_a=False)\n",
      "d:\\Anaconda3\\envs\\python36Env\\lib\\site-packages\\sklearn\\linear_model\\_ridge.py:188: LinAlgWarning: Ill-conditioned matrix (rcond=5.02775e-18): result may not be accurate.\n",
      "  overwrite_a=False)\n",
      "d:\\Anaconda3\\envs\\python36Env\\lib\\site-packages\\sklearn\\linear_model\\_ridge.py:188: LinAlgWarning: Ill-conditioned matrix (rcond=4.68002e-18): result may not be accurate.\n",
      "  overwrite_a=False)\n",
      "d:\\Anaconda3\\envs\\python36Env\\lib\\site-packages\\sklearn\\linear_model\\_ridge.py:188: LinAlgWarning: Ill-conditioned matrix (rcond=4.43402e-18): result may not be accurate.\n",
      "  overwrite_a=False)\n",
      "d:\\Anaconda3\\envs\\python36Env\\lib\\site-packages\\sklearn\\linear_model\\_coordinate_descent.py:531: ConvergenceWarning: Objective did not converge. You might want to increase the number of iterations. Duality gap: 0.9922445342985355, tolerance: 0.4223022209644335\n",
      "  positive)\n",
      "d:\\Anaconda3\\envs\\python36Env\\lib\\site-packages\\ipykernel_launcher.py:24: FutureWarning: arrays to stack must be passed as a \"sequence\" type such as list or tuple. Support for non-sequence iterables such as generators is deprecated as of NumPy 1.16 and will raise an error in the future.\n",
      "d:\\Anaconda3\\envs\\python36Env\\lib\\site-packages\\ipykernel_launcher.py:24: FutureWarning: arrays to stack must be passed as a \"sequence\" type such as list or tuple. Support for non-sequence iterables such as generators is deprecated as of NumPy 1.16 and will raise an error in the future.\n",
      "d:\\Anaconda3\\envs\\python36Env\\lib\\site-packages\\sklearn\\linear_model\\_ridge.py:188: LinAlgWarning: Ill-conditioned matrix (rcond=4.3935e-18): result may not be accurate.\n",
      "  overwrite_a=False)\n",
      "d:\\Anaconda3\\envs\\python36Env\\lib\\site-packages\\sklearn\\linear_model\\_ridge.py:188: LinAlgWarning: Ill-conditioned matrix (rcond=4.33872e-18): result may not be accurate.\n",
      "  overwrite_a=False)\n",
      "d:\\Anaconda3\\envs\\python36Env\\lib\\site-packages\\sklearn\\linear_model\\_ridge.py:188: LinAlgWarning: Ill-conditioned matrix (rcond=5.02505e-18): result may not be accurate.\n",
      "  overwrite_a=False)\n",
      "d:\\Anaconda3\\envs\\python36Env\\lib\\site-packages\\sklearn\\linear_model\\_ridge.py:188: LinAlgWarning: Ill-conditioned matrix (rcond=5.01584e-18): result may not be accurate.\n",
      "  overwrite_a=False)\n",
      "d:\\Anaconda3\\envs\\python36Env\\lib\\site-packages\\sklearn\\linear_model\\_ridge.py:188: LinAlgWarning: Ill-conditioned matrix (rcond=4.44577e-18): result may not be accurate.\n",
      "  overwrite_a=False)\n",
      "d:\\Anaconda3\\envs\\python36Env\\lib\\site-packages\\sklearn\\linear_model\\_coordinate_descent.py:531: ConvergenceWarning: Objective did not converge. You might want to increase the number of iterations. Duality gap: 1.1298797640153264, tolerance: 0.41701769203344985\n",
      "  positive)\n",
      "d:\\Anaconda3\\envs\\python36Env\\lib\\site-packages\\ipykernel_launcher.py:24: FutureWarning: arrays to stack must be passed as a \"sequence\" type such as list or tuple. Support for non-sequence iterables such as generators is deprecated as of NumPy 1.16 and will raise an error in the future.\n",
      "d:\\Anaconda3\\envs\\python36Env\\lib\\site-packages\\ipykernel_launcher.py:24: FutureWarning: arrays to stack must be passed as a \"sequence\" type such as list or tuple. Support for non-sequence iterables such as generators is deprecated as of NumPy 1.16 and will raise an error in the future.\n",
      "d:\\Anaconda3\\envs\\python36Env\\lib\\site-packages\\sklearn\\linear_model\\_ridge.py:188: LinAlgWarning: Ill-conditioned matrix (rcond=4.22509e-18): result may not be accurate.\n",
      "  overwrite_a=False)\n",
      "d:\\Anaconda3\\envs\\python36Env\\lib\\site-packages\\sklearn\\linear_model\\_ridge.py:188: LinAlgWarning: Ill-conditioned matrix (rcond=4.29112e-18): result may not be accurate.\n",
      "  overwrite_a=False)\n",
      "d:\\Anaconda3\\envs\\python36Env\\lib\\site-packages\\sklearn\\linear_model\\_ridge.py:188: LinAlgWarning: Ill-conditioned matrix (rcond=4.89673e-18): result may not be accurate.\n",
      "  overwrite_a=False)\n",
      "d:\\Anaconda3\\envs\\python36Env\\lib\\site-packages\\sklearn\\linear_model\\_ridge.py:188: LinAlgWarning: Ill-conditioned matrix (rcond=4.56987e-18): result may not be accurate.\n",
      "  overwrite_a=False)\n",
      "d:\\Anaconda3\\envs\\python36Env\\lib\\site-packages\\sklearn\\linear_model\\_ridge.py:188: LinAlgWarning: Ill-conditioned matrix (rcond=4.31824e-18): result may not be accurate.\n",
      "  overwrite_a=False)\n",
      "d:\\Anaconda3\\envs\\python36Env\\lib\\site-packages\\sklearn\\linear_model\\_coordinate_descent.py:531: ConvergenceWarning: Objective did not converge. You might want to increase the number of iterations. Duality gap: 1.04661917072292, tolerance: 0.42809865958540744\n",
      "  positive)\n",
      "d:\\Anaconda3\\envs\\python36Env\\lib\\site-packages\\ipykernel_launcher.py:24: FutureWarning: arrays to stack must be passed as a \"sequence\" type such as list or tuple. Support for non-sequence iterables such as generators is deprecated as of NumPy 1.16 and will raise an error in the future.\n",
      "d:\\Anaconda3\\envs\\python36Env\\lib\\site-packages\\ipykernel_launcher.py:24: FutureWarning: arrays to stack must be passed as a \"sequence\" type such as list or tuple. Support for non-sequence iterables such as generators is deprecated as of NumPy 1.16 and will raise an error in the future.\n"
     ]
    },
    {
     "name": "stdout",
     "output_type": "stream",
     "text": [
      "0.04441236257646548 0.006063579222067281\n"
     ]
    }
   ],
   "source": [
    "score=rmse_cv(stack_model,X_train_add,flatY)\n",
    "print(score.mean(),score.std())  # result: mean = 0.044"
   ]
  },
  {
   "cell_type": "markdown",
   "metadata": {},
   "source": [
    "# 5 Prediction"
   ]
  },
  {
   "cell_type": "code",
   "execution_count": 31,
   "metadata": {},
   "outputs": [
    {
     "name": "stderr",
     "output_type": "stream",
     "text": [
      "d:\\Anaconda3\\envs\\python36Env\\lib\\site-packages\\sklearn\\linear_model\\_ridge.py:188: LinAlgWarning: Ill-conditioned matrix (rcond=3.19158e-18): result may not be accurate.\n",
      "  overwrite_a=False)\n",
      "d:\\Anaconda3\\envs\\python36Env\\lib\\site-packages\\sklearn\\linear_model\\_ridge.py:188: LinAlgWarning: Ill-conditioned matrix (rcond=3.71491e-18): result may not be accurate.\n",
      "  overwrite_a=False)\n",
      "d:\\Anaconda3\\envs\\python36Env\\lib\\site-packages\\sklearn\\linear_model\\_ridge.py:188: LinAlgWarning: Ill-conditioned matrix (rcond=3.20376e-18): result may not be accurate.\n",
      "  overwrite_a=False)\n",
      "d:\\Anaconda3\\envs\\python36Env\\lib\\site-packages\\sklearn\\linear_model\\_ridge.py:188: LinAlgWarning: Ill-conditioned matrix (rcond=3.22172e-18): result may not be accurate.\n",
      "  overwrite_a=False)\n",
      "d:\\Anaconda3\\envs\\python36Env\\lib\\site-packages\\sklearn\\linear_model\\_ridge.py:188: LinAlgWarning: Ill-conditioned matrix (rcond=3.74413e-18): result may not be accurate.\n",
      "  overwrite_a=False)\n",
      "d:\\Anaconda3\\envs\\python36Env\\lib\\site-packages\\ipykernel_launcher.py:24: FutureWarning: arrays to stack must be passed as a \"sequence\" type such as list or tuple. Support for non-sequence iterables such as generators is deprecated as of NumPy 1.16 and will raise an error in the future.\n",
      "d:\\Anaconda3\\envs\\python36Env\\lib\\site-packages\\ipykernel_launcher.py:24: FutureWarning: arrays to stack must be passed as a \"sequence\" type such as list or tuple. Support for non-sequence iterables such as generators is deprecated as of NumPy 1.16 and will raise an error in the future.\n"
     ]
    },
    {
     "name": "stdout",
     "output_type": "stream",
     "text": [
      "[18423.13986322  9230.86495448  3224.02338152 ...  5807.89983443\n",
      "  4131.50365862  9821.55893169]\n"
     ]
    }
   ],
   "source": [
    "stack_model = stacking(mod=[ENet, model_xgb, KRR],meta_model=lasso)\n",
    "stack_model.fit(flatX,flatY)\n",
    "pred = np.exp(stack_model.predict(test.values))\n",
    "print(pred)"
   ]
  },
  {
   "cell_type": "markdown",
   "metadata": {},
   "source": [
    "## 5.1 Root mean squared error of prediction"
   ]
  },
  {
   "cell_type": "code",
   "execution_count": 32,
   "metadata": {
    "scrolled": true
   },
   "outputs": [
    {
     "data": {
      "text/plain": [
       "0.05213643363759438"
      ]
     },
     "execution_count": 32,
     "metadata": {},
     "output_type": "execute_result"
    }
   ],
   "source": [
    "rmsle(testdata['KWH'], pred)   # result: 0.052"
   ]
  },
  {
   "cell_type": "markdown",
   "metadata": {},
   "source": [
    "## 5.2 Submission"
   ]
  },
  {
   "cell_type": "code",
   "execution_count": 33,
   "metadata": {},
   "outputs": [],
   "source": [
    "result=pd.DataFrame({'id':test_index, 'gt':testdata['KWH'],'prediction':pred})\n",
    "result.to_csv(\"submission.csv\",index=False)"
   ]
  },
  {
   "cell_type": "markdown",
   "metadata": {},
   "source": [
    "# 6 Summary\n",
    "\n",
    "\n",
    "\n",
    "## Project workflow \n",
    "\n",
    "1. Understanding the dataset and task; \n",
    "2. Selecting features;\n",
    "3. Data cleaning and precessing; \n",
    "4. Training with several methods (Lasso, ENet, KRR, GBoost, XGBoost, LightGBM, Stacking models)\n",
    "5. Prediction and evaluation. \n",
    "\n",
    "## Lesson learned\n",
    "\n",
    "1. Key is to understand the meaning of data and select right features. \n",
    "2. Stacking different models can improve the accuracy.\n",
    "3. XGBoost is accurate, but it's slow. \n",
    "4. Excel is useful in understanding the data intuitively. \n"
   ]
  },
  {
   "cell_type": "code",
   "execution_count": null,
   "metadata": {},
   "outputs": [],
   "source": []
  }
 ],
 "metadata": {
  "kernelspec": {
   "display_name": "Python 3",
   "language": "python",
   "name": "python3"
  },
  "language_info": {
   "codemirror_mode": {
    "name": "ipython",
    "version": 3
   },
   "file_extension": ".py",
   "mimetype": "text/x-python",
   "name": "python",
   "nbconvert_exporter": "python",
   "pygments_lexer": "ipython3",
   "version": "3.6.12"
  }
 },
 "nbformat": 4,
 "nbformat_minor": 4
}
